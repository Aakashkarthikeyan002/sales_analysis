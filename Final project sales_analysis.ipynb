{
 "cells": [
  {
   "cell_type": "code",
   "execution_count": 1,
   "metadata": {
    "id": "Jra9M8vqPLSe"
   },
   "outputs": [],
   "source": [
    "import numpy as np\n",
    "import pandas as pd\n",
    "import matplotlib.pyplot as plt\n",
    "import seaborn as sns\n",
    "from statsmodels.tsa.seasonal import seasonal_decompose"
   ]
  },
  {
   "cell_type": "code",
   "execution_count": 2,
   "metadata": {
    "colab": {
     "base_uri": "https://localhost:8080/"
    },
    "id": "QpDkMai_PRP1",
    "outputId": "153a65a5-2435-4f0d-f172-19ab7d9db8f2"
   },
   "outputs": [
    {
     "ename": "SyntaxError",
     "evalue": "(unicode error) 'unicodeescape' codec can't decode bytes in position 2-3: truncated \\UXXXXXXXX escape (1509185410.py, line 1)",
     "output_type": "error",
     "traceback": [
      "\u001b[1;36m  Cell \u001b[1;32mIn[2], line 1\u001b[1;36m\u001b[0m\n\u001b[1;33m    feature=pd.read_csv('c:\\Users\\Admin\\OneDrive\\Desktop\\final project\\Features_data_set.csv',parse_dates=[\"Date\"])\u001b[0m\n\u001b[1;37m                                                                                             ^\u001b[0m\n\u001b[1;31mSyntaxError\u001b[0m\u001b[1;31m:\u001b[0m (unicode error) 'unicodeescape' codec can't decode bytes in position 2-3: truncated \\UXXXXXXXX escape\n"
     ]
    }
   ],
   "source": [
    "feature=pd.read_csv('c:\\Users\\Admin\\OneDrive\\Desktop\\final project\\Features_data_set.csv',parse_dates=[\"Date\"])\n",
    "sales=pd.read_csv('c:\\Users\\Admin\\OneDrive\\Desktop\\final project\\sales_data_set.csv',parse_dates=[\"Date\"])\n",
    "store=pd.read_csv('c:\\Users\\Admin\\OneDrive\\Desktop\\final project\\stores_data_set.csv')"
   ]
  },
  {
   "cell_type": "code",
   "execution_count": null,
   "metadata": {
    "colab": {
     "base_uri": "https://localhost:8080/"
    },
    "id": "b4aNqkn7Phr5",
    "outputId": "37d2b942-b192-417e-8686-51d668615d5c"
   },
   "outputs": [],
   "source": [
    "data_date = feature.groupby(\"Date\").agg({\"Temperature\":\"mean\"\n",
    "                                            ,\"Fuel_Price\":\"mean\"\n",
    "                                            ,\"IsHoliday\":\"sum\"\n",
    "                                            ,\"CPI\":\"mean\"\n",
    "                                           ,\"Unemployment\":\"mean\"})\n",
    "data_date = data_date.sort_index()\n",
    "temp_date_data = data_date[:'2012-12-10']\n",
    "\n",
    "data_sales_date = sales.groupby(\"Date\").agg({\"Weekly_Sales\":\"sum\"})\n",
    "data_sales_date.sort_index(inplace=True)\n",
    "data_sales_date.Weekly_Sales = data_sales_date.Weekly_Sales/1000000\n",
    "data_sales_date.Weekly_Sales = data_sales_date.Weekly_Sales.apply(int)\n",
    "data = pd.merge(data_sales_date, temp_date_data, left_index=True,right_index=True, how='left')\n",
    "data[\"IsHoliday\"] = data[\"IsHoliday\"].apply(lambda x: True if x == 45.0 else False )\n",
    "print(data.describe())"
   ]
  },
  {
   "cell_type": "code",
   "execution_count": null,
   "metadata": {
    "colab": {
     "base_uri": "https://localhost:8080/",
     "height": 854
    },
    "id": "rNKBZHh4Pn_G",
    "outputId": "50db0b7b-9cb4-41bf-c01f-220a140c1452"
   },
   "outputs": [],
   "source": [
    "plt.style.use('bmh')\n",
    "fig, ax = plt.subplots(5,1,figsize=(10,10),sharex=True)\n",
    "data[\"Weekly_Sales\"].plot(ax=ax[0],title=\"Weekly Sales\")\n",
    "data[data.IsHoliday==True][\"Weekly_Sales\"].plot(marker=\".\",ax=ax[0],legend=\"Holiday Week sale\")\n",
    "data[\"Temperature\"].plot(ax=ax[1], title=\"Temperature\")\n",
    "data[\"Fuel_Price\"].plot(ax=ax[2],title=\"Fuel_Price\")\n",
    "data[\"CPI\"].plot(ax=ax[3],title=\"CPI\")\n",
    "data[\"Unemployment\"].plot(ax=ax[4],title=\"Unemployment\")"
   ]
  },
  {
   "cell_type": "code",
   "execution_count": null,
   "metadata": {
    "colab": {
     "base_uri": "https://localhost:8080/",
     "height": 604
    },
    "id": "8SzLQwQFPquN",
    "outputId": "be7870b8-55d7-40b4-e467-05cae787c88b"
   },
   "outputs": [],
   "source": [
    "sns.heatmap(data.corr(),cmap=\"crest\", annot=True)"
   ]
  },
  {
   "cell_type": "code",
   "execution_count": null,
   "metadata": {
    "colab": {
     "base_uri": "https://localhost:8080/",
     "height": 541
    },
    "id": "zrVheB7LPwe1",
    "outputId": "6fbf02d3-0644-4679-90f0-ad1157f16c21"
   },
   "outputs": [],
   "source": [
    "data_sales_month = data.groupby(data.index.month).agg({\"Weekly_Sales\":\"sum\"})\n",
    "plt.figure(figsize=(10, 5))\n",
    "sns.barplot(x=data_sales_month.index,y=data_sales_month.Weekly_Sales, color=\"skyblue\", fill=True)\n",
    "plt.title(\"Monthly Sales\")\n",
    "plt.xlabel(\"Month\")\n",
    "plt.ylabel(\"Sales\")"
   ]
  },
  {
   "cell_type": "code",
   "execution_count": null,
   "metadata": {
    "colab": {
     "base_uri": "https://localhost:8080/",
     "height": 525
    },
    "id": "A6k_fHkCP0d-",
    "outputId": "e3d86387-736a-4750-afd7-e271b1ea93a5"
   },
   "outputs": [],
   "source": [
    "data_sales_year = data.groupby(data.index.year).agg({\"Weekly_Sales\":\"sum\"})\n",
    "sns.barplot(x=data_sales_year.index,y=data_sales_year.Weekly_Sales, color=\"skyblue\")\n",
    "plt.title(\"Yearly Sales\")\n",
    "plt.xlabel(\"Year\")\n",
    "plt.ylabel(\"Sales\")"
   ]
  },
  {
   "cell_type": "code",
   "execution_count": null,
   "metadata": {
    "colab": {
     "base_uri": "https://localhost:8080/",
     "height": 644
    },
    "id": "hQojayIfP5Jk",
    "outputId": "ec743d53-2383-440b-baa4-746da3251222"
   },
   "outputs": [],
   "source": [
    "decomposition = seasonal_decompose(data[\"Weekly_Sales\"], period=45)\n",
    "plt.figure(figsize=(10, 7))\n",
    "plt.plot(decomposition.trend)\n",
    "plt.plot(decomposition.seasonal)\n",
    "plt.plot(decomposition.resid)\n",
    "plt.legend([\"Trend\", \"Seasonal\",\"Resid\"], loc =\"upper right\")"
   ]
  },
  {
   "cell_type": "code",
   "execution_count": null,
   "metadata": {
    "colab": {
     "base_uri": "https://localhost:8080/",
     "height": 300
    },
    "id": "PKQJrNnid-vn",
    "outputId": "3c8cfd5f-ec1a-4074-c52e-043713119a10"
   },
   "outputs": [],
   "source": [
    "data_Store = feature.groupby(\"Store\").agg({\"Temperature\":\"mean\",\"Fuel_Price\":\"mean\",\"IsHoliday\":\"sum\"})\n",
    "temp_store = sales.groupby(\"Store\").agg({\"Weekly_Sales\":\"sum\"})\n",
    "temp_store.Weekly_Sales = temp_store.Weekly_Sales/1000000\n",
    "temp_store.Weekly_Sales = temp_store.Weekly_Sales.apply(int)\n",
    "data_Store.set_index(np.arange(0,45),inplace=True)\n",
    "store[\"temp\"] = data_Store.Temperature\n",
    "store[\"Fuel_Price\"] = data_Store.Fuel_Price\n",
    "store[\"holiday\"] = data_Store.IsHoliday\n",
    "store[\"Weekly_Sales\"] = temp_store.Weekly_Sales\n",
    "store.describe()"
   ]
  },
  {
   "cell_type": "code",
   "execution_count": null,
   "metadata": {
    "colab": {
     "base_uri": "https://localhost:8080/",
     "height": 430
    },
    "id": "V2VHo5qceCHw",
    "outputId": "2a2527e7-c9a6-421e-e13b-31125a47b33c"
   },
   "outputs": [],
   "source": [
    "fig,ax = plt.subplots(1,2,figsize=(10, 4))\n",
    "sns.swarmplot(data = store,y=\"Size\",x=\"Type\",ax=ax[0])\n",
    "sns.boxplot(data = store,y=\"Weekly_Sales\",x=\"Type\",ax=ax[1], color=\"skyblue\")"
   ]
  },
  {
   "cell_type": "code",
   "execution_count": null,
   "metadata": {
    "colab": {
     "base_uri": "https://localhost:8080/",
     "height": 460
    },
    "id": "8KRbX5e1nL9W",
    "outputId": "696d509c-8b59-4063-d7d0-a5a6e5df6868"
   },
   "outputs": [],
   "source": [
    "data_Dept = sales.groupby(\"Dept\").agg({\"Weekly_Sales\":\"sum\"})\n",
    "data_Dept.Weekly_Sales = data_Dept.Weekly_Sales/10000\n",
    "data_Dept.Weekly_Sales = data_Dept.Weekly_Sales.apply(int)\n",
    "data_Dept.sort_values(by=\"Weekly_Sales\")\n",
    "fig1, ax1 = plt.subplots(figsize=(12, 4))\n",
    "plt.vlines(x=data_Dept.index, ymin=0, ymax=data_Dept['Weekly_Sales'], color='skyblue')\n",
    "plt.plot(data_Dept.index,data_Dept['Weekly_Sales'], \"o\")\n",
    "plt.title(\"Department Sales\")\n",
    "plt.ylabel(\"Sales\")\n",
    "plt.xlabel(\"Department\")"
   ]
  },
  {
   "cell_type": "code",
   "execution_count": null,
   "metadata": {
    "colab": {
     "base_uri": "https://localhost:8080/",
     "height": 511
    },
    "id": "bgdImYbPnTXE",
    "outputId": "a2a21f3c-1862-4d32-90a0-a018c95386e1"
   },
   "outputs": [],
   "source": [
    "#Analysis Store Type and Year,Month Wise\n",
    "sales_date_store = sales.groupby([\"Date\",\"Store\"]).agg({\"Weekly_Sales\":\"sum\"})\n",
    "sales_date_store.sort_index(inplace=True)\n",
    "sales_date_store.Weekly_Sales = sales_date_store.Weekly_Sales/10000\n",
    "sales_date_store.Weekly_Sales = sales_date_store.Weekly_Sales.apply(int)\n",
    "data_table = pd.merge(feature,sales_date_store ,  how='left', on=[\"Date\",\"Store\"])\n",
    "data_table = pd.merge(data_table,store[[\"Store\",\"Type\"]] ,  how='left', on=[\"Store\"])\n",
    "data_table.head(20)\n",
    "data_train = data_table[data_table.Weekly_Sales.notnull()]\n",
    "data_test = data_table[data_table.Weekly_Sales.isnull()]\n",
    "plt.figure(figsize=(10, 5))\n",
    "sns.barplot(x=data_train.Date.dt.year, y=data_train.Weekly_Sales,hue=data_train.Type)"
   ]
  },
  {
   "cell_type": "code",
   "execution_count": null,
   "metadata": {
    "colab": {
     "base_uri": "https://localhost:8080/",
     "height": 673
    },
    "id": "ZvZQaLfynZGr",
    "outputId": "dc72ef66-903f-48fa-e8cd-676078409876"
   },
   "outputs": [],
   "source": [
    "plt.figure(figsize=(10, 7))\n",
    "sns.barplot(x=data_train.Date.dt.month, y=data_train.Weekly_Sales,hue=data_train.Type)"
   ]
  },
  {
   "cell_type": "code",
   "execution_count": null,
   "metadata": {
    "colab": {
     "base_uri": "https://localhost:8080/",
     "height": 460
    },
    "id": "InC-JoAxnbbr",
    "outputId": "ef444372-ea93-46d8-aa39-71e70602f7e0"
   },
   "outputs": [],
   "source": [
    "#Analysis of MarkDown\n",
    "plt.figure(figsize=(10,4))\n",
    "train_markdown = data_table[data_table.MarkDown2.notnull()]\n",
    "train_markdown = train_markdown.groupby(\"Date\").agg({\"MarkDown1\":\"mean\",\"MarkDown2\":\"mean\",\"MarkDown3\":\"mean\",\"MarkDown4\":\"mean\",\"MarkDown5\":\"mean\"})\n",
    "plt.plot(train_markdown.index,train_markdown.MarkDown1)\n",
    "plt.plot(train_markdown.index,train_markdown.MarkDown2)\n",
    "plt.plot(train_markdown.index,train_markdown.MarkDown3)\n",
    "plt.plot(train_markdown.index,train_markdown.MarkDown4)\n",
    "plt.plot(train_markdown.index,train_markdown.MarkDown5)\n",
    "plt.title(\"Timeline Markdown\")\n",
    "plt.ylabel(\"Markdown\")\n",
    "plt.xlabel(\"Date\")"
   ]
  },
  {
   "cell_type": "code",
   "execution_count": null,
   "metadata": {
    "colab": {
     "base_uri": "https://localhost:8080/",
     "height": 795
    },
    "id": "QWm3QyEMnfs_",
    "outputId": "6f8aeb27-ae96-451f-844f-101400bfe27a"
   },
   "outputs": [],
   "source": [
    "train_markdown.hist(figsize=(10,8),bins=6,color='skyblue')\n",
    "plt.tight_layout()\n",
    "plt.show()"
   ]
  },
  {
   "cell_type": "code",
   "execution_count": null,
   "metadata": {
    "colab": {
     "base_uri": "https://localhost:8080/",
     "height": 628
    },
    "id": "9Dc0dzM_nihc",
    "outputId": "3ddf818f-3188-4b9a-a0f5-c2e54f1797f9"
   },
   "outputs": [],
   "source": [
    "train_markdown_month = train_markdown.groupby(train_markdown.index.month).agg({\"MarkDown1\":\"mean\",\"MarkDown2\":\"mean\",\"MarkDown3\":\"mean\",\"MarkDown4\":\"mean\",\"MarkDown5\":\"mean\"})\n",
    "train_markdown_month.plot(kind='bar', stacked=True,figsize=(12,6))\n",
    "plt.title(\"Monthwise Markdown\")\n",
    "plt.ylabel(\"Markdown\")\n",
    "plt.xlabel(\"Month\")"
   ]
  },
  {
   "cell_type": "code",
   "execution_count": null,
   "metadata": {
    "colab": {
     "base_uri": "https://localhost:8080/",
     "height": 455
    },
    "id": "0nDo96_5nsGl",
    "outputId": "1af1bfdf-acda-41fa-d523-f646f5ef0653"
   },
   "outputs": [],
   "source": [
    "train_markdown_1 = data_table[data_table.MarkDown2.notnull()]\n",
    "train_markdown_type = train_markdown_1.groupby(\"Type\").agg({\"MarkDown1\":\"mean\",\"MarkDown2\":\"mean\",\"MarkDown3\":\"mean\",\"MarkDown4\":\"mean\",\"MarkDown5\":\"mean\"})\n",
    "train_markdown_type.plot(kind='bar', stacked=True,figsize=(10,4))\n",
    "plt.title(\"Store Type Sales\")\n",
    "plt.ylabel(\"Markdown\")"
   ]
  }
 ],
 "metadata": {
  "colab": {
   "provenance": []
  },
  "kernelspec": {
   "display_name": "Python 3 (ipykernel)",
   "language": "python",
   "name": "python3"
  },
  "language_info": {
   "codemirror_mode": {
    "name": "ipython",
    "version": 3
   },
   "file_extension": ".py",
   "mimetype": "text/x-python",
   "name": "python",
   "nbconvert_exporter": "python",
   "pygments_lexer": "ipython3",
   "version": "3.11.5"
  }
 },
 "nbformat": 4,
 "nbformat_minor": 1
}
